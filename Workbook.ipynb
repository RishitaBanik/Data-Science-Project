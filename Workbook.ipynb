{
 "cells": [
  {
   "cell_type": "markdown",
   "id": "3ad5777f",
   "metadata": {},
   "source": [
    "# H1 My Jupter Notebook on IBM Watson Studio"
   ]
  },
  {
   "cell_type": "markdown",
   "id": "09a7ff53",
   "metadata": {},
   "source": [
    "**Rishita Banik**\\\n",
    "Data Science Enthusiast"
   ]
  },
  {
   "cell_type": "markdown",
   "id": "df1b4647",
   "metadata": {},
   "source": [
    "*I am interested in data science because of the following reasons*\n",
    "\n",
    "*I am a technophile. I love using the latest and greatest technology. Whether that is hardware or software, I enjoy getting my hands on with these new technologies to see how that can enrich our lives. I love telling stories with data and using data to help bring that data to life. As a data scientist I can turn seemingly meaningless data into a recommendation to help a company improve its product, services, or experiences. This can help a business grow or get more clients.*"
   ]
  },
  {
   "cell_type": "markdown",
   "id": "22152541",
   "metadata": {},
   "source": [
    "### Code below will calculate the area of rectable with length = 5 and width = 3"
   ]
  },
  {
   "cell_type": "code",
   "execution_count": 2,
   "id": "c084ef78",
   "metadata": {},
   "outputs": [
    {
     "name": "stdout",
     "output_type": "stream",
     "text": [
      "Area of rectangle is  15\n"
     ]
    }
   ],
   "source": [
    "def area_of_rectangle(length_rect, width_rect):\n",
    "    return length_rect * width_rect\n",
    "\n",
    "length = 5\n",
    "width = 3\n",
    "area = area_of_rectangle(length, width)\n",
    "print('Area of rectangle is ', area)"
   ]
  },
  {
   "cell_type": "markdown",
   "id": "aeebf493",
   "metadata": {},
   "source": [
    "# ### **Table**\n",
    "\n",
    "# | data Science  | Types         | Name       |\n",
    "# | ------------- |:-------------:|:----------:|\n",
    "# | Supervised    | Unsupervised  |Reinfocement|\n",
    "# | 1             | 2             |3           |\n",
    "\n",
    "# ### **BlockQuotes**\n",
    "\n",
    "# > Data science has different parts.\n",
    "# > There are also different data science tools and labs.\n",
    "# \n",
    "\n",
    "# ### **Horizontal Rule**\n",
    "\n",
    "# \n",
    "# jupyter\n",
    "# \n",
    "# ---\n",
    "# \n",
    "# R-studio\n",
    "# \n",
    "# ---\n",
    "# \n",
    "# zeppelin\n",
    "# \n",
    "# ---\n",
    "\n",
    "# ### **Numbered list**\n",
    "\n",
    "# 1. list 1\n",
    "# 1. list 2\n",
    "# 1. list 3.\n",
    "# \n",
    "# \n",
    "\n",
    "# ### **Bulleted points**\n",
    "\n",
    "# \n",
    "# - componenet 1\n",
    "# + component 2\n",
    "\n",
    "# ### **Images**\n",
    "\n",
    "# \n",
    "\n",
    "# ### **Strikethrough**\n",
    "\n",
    "# \n",
    "# ~~Scratch this.~~\n",
    "\n",
    "# ### **Code/Syntax Highlighting**"
   ]
  },
  {
   "cell_type": "code",
   "execution_count": null,
   "id": "462154dc",
   "metadata": {},
   "outputs": [],
   "source": []
  }
 ],
 "metadata": {
  "kernelspec": {
   "display_name": "Python 3",
   "language": "python",
   "name": "python3"
  },
  "language_info": {
   "codemirror_mode": {
    "name": "ipython",
    "version": 3
   },
   "file_extension": ".py",
   "mimetype": "text/x-python",
   "name": "python",
   "nbconvert_exporter": "python",
   "pygments_lexer": "ipython3",
   "version": "3.6.15"
  }
 },
 "nbformat": 4,
 "nbformat_minor": 5
}
